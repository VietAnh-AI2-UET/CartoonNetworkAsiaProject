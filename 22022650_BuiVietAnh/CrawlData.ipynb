{
 "cells": [
  {
   "cell_type": "code",
   "execution_count": 1,
   "id": "2d03935d-d96b-45d9-b724-51564d3b2470",
   "metadata": {},
   "outputs": [
    {
     "name": "stdout",
     "output_type": "stream",
     "text": [
      "Defaulting to user installation because normal site-packages is not writeable\n",
      "Requirement already satisfied: facebook-scraper in c:\\users\\hello\\appdata\\roaming\\python\\python39\\site-packages (0.2.59)\n",
      "Requirement already satisfied: dateparser<2.0.0,>=1.0.0 in c:\\users\\hello\\appdata\\roaming\\python\\python39\\site-packages (from facebook-scraper) (1.1.8)\n",
      "Requirement already satisfied: demjson3<4.0.0,>=3.0.5 in c:\\users\\hello\\appdata\\roaming\\python\\python39\\site-packages (from facebook-scraper) (3.0.6)\n",
      "Requirement already satisfied: requests-html<0.11.0,>=0.10.0 in c:\\users\\hello\\appdata\\roaming\\python\\python39\\site-packages (from facebook-scraper) (0.10.0)\n",
      "Requirement already satisfied: python-dateutil in c:\\users\\hello\\appdata\\roaming\\python\\python39\\site-packages (from dateparser<2.0.0,>=1.0.0->facebook-scraper) (2.8.2)\n",
      "Requirement already satisfied: pytz in c:\\users\\hello\\appdata\\roaming\\python\\python39\\site-packages (from dateparser<2.0.0,>=1.0.0->facebook-scraper) (2023.3.post1)\n",
      "Requirement already satisfied: regex!=2019.02.19,!=2021.8.27 in c:\\users\\hello\\appdata\\roaming\\python\\python39\\site-packages (from dateparser<2.0.0,>=1.0.0->facebook-scraper) (2023.10.3)\n",
      "Requirement already satisfied: tzlocal in c:\\users\\hello\\appdata\\roaming\\python\\python39\\site-packages (from dateparser<2.0.0,>=1.0.0->facebook-scraper) (5.2)\n",
      "Requirement already satisfied: requests in c:\\users\\hello\\appdata\\roaming\\python\\python39\\site-packages (from requests-html<0.11.0,>=0.10.0->facebook-scraper) (2.31.0)\n",
      "Requirement already satisfied: pyquery in c:\\users\\hello\\appdata\\roaming\\python\\python39\\site-packages (from requests-html<0.11.0,>=0.10.0->facebook-scraper) (2.0.0)\n",
      "Requirement already satisfied: fake-useragent in c:\\users\\hello\\appdata\\roaming\\python\\python39\\site-packages (from requests-html<0.11.0,>=0.10.0->facebook-scraper) (1.3.0)\n",
      "Requirement already satisfied: parse in c:\\users\\hello\\appdata\\roaming\\python\\python39\\site-packages (from requests-html<0.11.0,>=0.10.0->facebook-scraper) (1.19.1)\n",
      "Requirement already satisfied: bs4 in c:\\users\\hello\\appdata\\roaming\\python\\python39\\site-packages (from requests-html<0.11.0,>=0.10.0->facebook-scraper) (0.0.1)\n",
      "Requirement already satisfied: w3lib in c:\\users\\hello\\appdata\\roaming\\python\\python39\\site-packages (from requests-html<0.11.0,>=0.10.0->facebook-scraper) (2.1.2)\n",
      "Requirement already satisfied: pyppeteer>=0.0.14 in c:\\users\\hello\\appdata\\roaming\\python\\python39\\site-packages (from requests-html<0.11.0,>=0.10.0->facebook-scraper) (1.0.2)\n",
      "Requirement already satisfied: appdirs<2.0.0,>=1.4.3 in c:\\users\\hello\\appdata\\roaming\\python\\python39\\site-packages (from pyppeteer>=0.0.14->requests-html<0.11.0,>=0.10.0->facebook-scraper) (1.4.4)\n",
      "Requirement already satisfied: certifi>=2021 in c:\\users\\hello\\appdata\\roaming\\python\\python39\\site-packages (from pyppeteer>=0.0.14->requests-html<0.11.0,>=0.10.0->facebook-scraper) (2023.7.22)\n",
      "Requirement already satisfied: importlib-metadata>=1.4 in c:\\users\\hello\\appdata\\roaming\\python\\python39\\site-packages (from pyppeteer>=0.0.14->requests-html<0.11.0,>=0.10.0->facebook-scraper) (6.8.0)\n",
      "Requirement already satisfied: pyee<9.0.0,>=8.1.0 in c:\\users\\hello\\appdata\\roaming\\python\\python39\\site-packages (from pyppeteer>=0.0.14->requests-html<0.11.0,>=0.10.0->facebook-scraper) (8.2.2)\n",
      "Requirement already satisfied: tqdm<5.0.0,>=4.42.1 in c:\\users\\hello\\appdata\\roaming\\python\\python39\\site-packages (from pyppeteer>=0.0.14->requests-html<0.11.0,>=0.10.0->facebook-scraper) (4.66.1)\n",
      "Requirement already satisfied: urllib3<2.0.0,>=1.25.8 in c:\\users\\hello\\appdata\\roaming\\python\\python39\\site-packages (from pyppeteer>=0.0.14->requests-html<0.11.0,>=0.10.0->facebook-scraper) (1.26.18)\n",
      "Requirement already satisfied: websockets<11.0,>=10.0 in c:\\users\\hello\\appdata\\roaming\\python\\python39\\site-packages (from pyppeteer>=0.0.14->requests-html<0.11.0,>=0.10.0->facebook-scraper) (10.4)\n",
      "Requirement already satisfied: beautifulsoup4 in c:\\users\\hello\\appdata\\roaming\\python\\python39\\site-packages (from bs4->requests-html<0.11.0,>=0.10.0->facebook-scraper) (4.12.2)\n",
      "Requirement already satisfied: importlib-resources>=5.0 in c:\\users\\hello\\appdata\\roaming\\python\\python39\\site-packages (from fake-useragent->requests-html<0.11.0,>=0.10.0->facebook-scraper) (6.0.1)\n",
      "Requirement already satisfied: lxml>=2.1 in c:\\users\\hello\\appdata\\roaming\\python\\python39\\site-packages (from pyquery->requests-html<0.11.0,>=0.10.0->facebook-scraper) (4.9.3)\n",
      "Requirement already satisfied: cssselect>=1.2.0 in c:\\users\\hello\\appdata\\roaming\\python\\python39\\site-packages (from pyquery->requests-html<0.11.0,>=0.10.0->facebook-scraper) (1.2.0)\n",
      "Requirement already satisfied: six>=1.5 in c:\\users\\hello\\appdata\\roaming\\python\\python39\\site-packages (from python-dateutil->dateparser<2.0.0,>=1.0.0->facebook-scraper) (1.16.0)\n",
      "Requirement already satisfied: charset-normalizer<4,>=2 in c:\\users\\hello\\appdata\\roaming\\python\\python39\\site-packages (from requests->requests-html<0.11.0,>=0.10.0->facebook-scraper) (3.2.0)\n",
      "Requirement already satisfied: idna<4,>=2.5 in c:\\users\\hello\\appdata\\roaming\\python\\python39\\site-packages (from requests->requests-html<0.11.0,>=0.10.0->facebook-scraper) (3.4)\n",
      "Requirement already satisfied: tzdata in c:\\users\\hello\\appdata\\roaming\\python\\python39\\site-packages (from tzlocal->dateparser<2.0.0,>=1.0.0->facebook-scraper) (2023.3)\n",
      "Requirement already satisfied: zipp>=0.5 in c:\\users\\hello\\appdata\\roaming\\python\\python39\\site-packages (from importlib-metadata>=1.4->pyppeteer>=0.0.14->requests-html<0.11.0,>=0.10.0->facebook-scraper) (3.16.2)\n",
      "Requirement already satisfied: colorama in c:\\users\\hello\\appdata\\roaming\\python\\python39\\site-packages (from tqdm<5.0.0,>=4.42.1->pyppeteer>=0.0.14->requests-html<0.11.0,>=0.10.0->facebook-scraper) (0.4.6)\n",
      "Requirement already satisfied: soupsieve>1.2 in c:\\users\\hello\\appdata\\roaming\\python\\python39\\site-packages (from beautifulsoup4->bs4->requests-html<0.11.0,>=0.10.0->facebook-scraper) (2.5)\n"
     ]
    },
    {
     "name": "stderr",
     "output_type": "stream",
     "text": [
      "WARNING: There was an error checking the latest version of pip.\n"
     ]
    }
   ],
   "source": [
    "!pip install facebook-scraper"
   ]
  },
  {
   "cell_type": "code",
   "execution_count": 1,
   "id": "b665eeb7-36e6-4d5f-8c3b-59e90b7ed7e1",
   "metadata": {},
   "outputs": [],
   "source": [
    "import os\n",
    "import pandas as pd\n",
    "import numpy as np"
   ]
  },
  {
   "cell_type": "code",
   "execution_count": 2,
   "id": "32382eef-4b71-4afb-bbaa-e248b79ce729",
   "metadata": {},
   "outputs": [
    {
     "name": "stdout",
     "output_type": "stream",
     "text": [
      "All done\n"
     ]
    }
   ],
   "source": [
    "import time\n",
    "from facebook_scraper import *\n",
    "\n",
    "results = []\n",
    "start_url = None\n",
    "def handle_pagination_url(url):\n",
    "    global start_url\n",
    "    start_url = url\n",
    "\n",
    "\n",
    "current_directory = os.getcwd()\n",
    "crawl_path = os.path.join(current_directory, \"www.facebook.com_cookies.txt\")\n",
    "set_cookies(crawl_path) # cookies này có thể không hoạt động\n",
    "while True:\n",
    "    try:\n",
    "        for post in get_posts(\"CartoonNetworkAsia\", page_limit=None, start_url=start_url, request_url_callback=handle_pagination_url,\n",
    "                    options={\"comments\": True, \"reactions\": True, \"allow_extra_requests\": True},\n",
    "                    extra_info=True):\n",
    "            print(len(results))\n",
    "            results.append(post)\n",
    "        print(\"All done\")\n",
    "        break\n",
    "    except exceptions.TemporarilyBanned:\n",
    "        print(\"Temporarily banned, sleeping for 10m\")\n",
    "        time.sleep(600)"
   ]
  },
  {
   "cell_type": "code",
   "execution_count": null,
   "id": "c70c890e-079f-4f6b-804f-8d9b43ef5ee2",
   "metadata": {},
   "outputs": [],
   "source": [
    "# lưu dữ liệu thành dataframe\n",
    "post_df_full = pd.DataFrame(columns=results[0].keys(), index=range(len(post_list)), data=post_list)\n",
    "\n",
    "# lưu dữ liệu thành file csv\n",
    "post_df_full.to_csv(\"CartoonNetworkAsia_81Post_Raw.csv\", index=False)"
   ]
  },
  {
   "cell_type": "code",
   "execution_count": null,
   "id": "9cdc053b-03e4-4136-a83d-31dfaeab0fe8",
   "metadata": {},
   "outputs": [],
   "source": []
  }
 ],
 "metadata": {
  "kernelspec": {
   "display_name": "Python 3 (ipykernel)",
   "language": "python",
   "name": "python3"
  },
  "language_info": {
   "codemirror_mode": {
    "name": "ipython",
    "version": 3
   },
   "file_extension": ".py",
   "mimetype": "text/x-python",
   "name": "python",
   "nbconvert_exporter": "python",
   "pygments_lexer": "ipython3",
   "version": "3.9.13"
  }
 },
 "nbformat": 4,
 "nbformat_minor": 5
}
