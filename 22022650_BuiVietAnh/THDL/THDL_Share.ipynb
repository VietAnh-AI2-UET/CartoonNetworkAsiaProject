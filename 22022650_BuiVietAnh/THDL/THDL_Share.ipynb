{
 "cells": [
  {
   "cell_type": "code",
   "execution_count": 12,
   "id": "84665eb4-6dc7-46dc-8d27-1cc5177476cb",
   "metadata": {},
   "outputs": [],
   "source": [
    "import os\n",
    "import pandas as pd\n",
    "import matplotlib.pyplot as plt"
   ]
  },
  {
   "cell_type": "code",
   "execution_count": 13,
   "id": "25d88723-a147-4c16-b4c8-1974e650cc42",
   "metadata": {},
   "outputs": [],
   "source": [
    "# Lấy đường dẫn của thư mục hiện tại\n",
    "current_directory = os.getcwd()\n",
    "\n",
    "# Lấy đường dẫn của thư mục cha\n",
    "parent_directory = os.path.dirname(current_directory)\n",
    "\n",
    "# Tạo đường dẫn đầy đủ tới file CSV\n",
    "csv_path = os.path.join(parent_directory, \"Processed\\\\CartoonNetworkAsia_81Post_Processed.csv\")\n",
    "\n",
    "# Đọc file CSV\n",
    "df = pd.read_csv(csv_path)"
   ]
  },
  {
   "cell_type": "code",
   "execution_count": 14,
   "id": "ca0f3b6c-5e9c-46e5-8748-4093cfa01569",
   "metadata": {},
   "outputs": [],
   "source": [
    "# thêm index cho dataframe\n",
    "df = df.reset_index(inplace = False)\n",
    "df[\"index\"] = df[\"index\"] + 1"
   ]
  },
  {
   "cell_type": "code",
   "execution_count": 15,
   "id": "8da6af5b-1ba1-4d0d-9e1f-148388e81cd0",
   "metadata": {},
   "outputs": [
    {
     "data": {
      "text/html": [
       "<div>\n",
       "<style scoped>\n",
       "    .dataframe tbody tr th:only-of-type {\n",
       "        vertical-align: middle;\n",
       "    }\n",
       "\n",
       "    .dataframe tbody tr th {\n",
       "        vertical-align: top;\n",
       "    }\n",
       "\n",
       "    .dataframe thead th {\n",
       "        text-align: right;\n",
       "    }\n",
       "</style>\n",
       "<table border=\"1\" class=\"dataframe\">\n",
       "  <thead>\n",
       "    <tr style=\"text-align: right;\">\n",
       "      <th></th>\n",
       "      <th>index</th>\n",
       "      <th>post_id</th>\n",
       "      <th>post_text</th>\n",
       "      <th>likes</th>\n",
       "      <th>comments</th>\n",
       "      <th>shares</th>\n",
       "      <th>reaction_count</th>\n",
       "      <th>like</th>\n",
       "      <th>love</th>\n",
       "      <th>wow</th>\n",
       "      <th>angry</th>\n",
       "      <th>haha</th>\n",
       "      <th>care</th>\n",
       "      <th>sad</th>\n",
       "      <th>hour</th>\n",
       "      <th>date</th>\n",
       "      <th>day</th>\n",
       "    </tr>\n",
       "  </thead>\n",
       "  <tbody>\n",
       "    <tr>\n",
       "      <th>0</th>\n",
       "      <td>1</td>\n",
       "      <td>738496031649666</td>\n",
       "      <td>Celebrate #WB100 with sunset movies under the ...</td>\n",
       "      <td>37</td>\n",
       "      <td>0</td>\n",
       "      <td>0</td>\n",
       "      <td>45</td>\n",
       "      <td>37</td>\n",
       "      <td>6.0</td>\n",
       "      <td>1.0</td>\n",
       "      <td>1.0</td>\n",
       "      <td>0.0</td>\n",
       "      <td>0.0</td>\n",
       "      <td>0.0</td>\n",
       "      <td>11</td>\n",
       "      <td>2023-11-06</td>\n",
       "      <td>Monday</td>\n",
       "    </tr>\n",
       "    <tr>\n",
       "      <th>1</th>\n",
       "      <td>2</td>\n",
       "      <td>738486251650644</td>\n",
       "      <td>Unlock your Barbie and Chelsea alter ego! Try ...</td>\n",
       "      <td>14</td>\n",
       "      <td>2</td>\n",
       "      <td>1</td>\n",
       "      <td>16</td>\n",
       "      <td>14</td>\n",
       "      <td>1.0</td>\n",
       "      <td>0.0</td>\n",
       "      <td>0.0</td>\n",
       "      <td>1.0</td>\n",
       "      <td>0.0</td>\n",
       "      <td>0.0</td>\n",
       "      <td>11</td>\n",
       "      <td>2023-11-06</td>\n",
       "      <td>Monday</td>\n",
       "    </tr>\n",
       "    <tr>\n",
       "      <th>2</th>\n",
       "      <td>3</td>\n",
       "      <td>736838365148766</td>\n",
       "      <td>Looks like Tom won't be fishing in the Singapo...</td>\n",
       "      <td>7</td>\n",
       "      <td>4</td>\n",
       "      <td>19</td>\n",
       "      <td>10</td>\n",
       "      <td>7</td>\n",
       "      <td>0.0</td>\n",
       "      <td>0.0</td>\n",
       "      <td>0.0</td>\n",
       "      <td>3.0</td>\n",
       "      <td>0.0</td>\n",
       "      <td>0.0</td>\n",
       "      <td>19</td>\n",
       "      <td>2023-11-05</td>\n",
       "      <td>Sunday</td>\n",
       "    </tr>\n",
       "    <tr>\n",
       "      <th>3</th>\n",
       "      <td>4</td>\n",
       "      <td>737572781741991</td>\n",
       "      <td>The chase is on in the Singapore Botanic Garde...</td>\n",
       "      <td>453</td>\n",
       "      <td>14</td>\n",
       "      <td>68</td>\n",
       "      <td>789</td>\n",
       "      <td>453</td>\n",
       "      <td>170.0</td>\n",
       "      <td>2.0</td>\n",
       "      <td>4.0</td>\n",
       "      <td>140.0</td>\n",
       "      <td>18.0</td>\n",
       "      <td>2.0</td>\n",
       "      <td>19</td>\n",
       "      <td>2023-11-04</td>\n",
       "      <td>Saturday</td>\n",
       "    </tr>\n",
       "    <tr>\n",
       "      <th>4</th>\n",
       "      <td>5</td>\n",
       "      <td>736877231811546</td>\n",
       "      <td>Ready to rock some outdoor superhero moves? ⚡️...</td>\n",
       "      <td>83</td>\n",
       "      <td>0</td>\n",
       "      <td>6</td>\n",
       "      <td>122</td>\n",
       "      <td>83</td>\n",
       "      <td>32.0</td>\n",
       "      <td>2.0</td>\n",
       "      <td>1.0</td>\n",
       "      <td>1.0</td>\n",
       "      <td>3.0</td>\n",
       "      <td>0.0</td>\n",
       "      <td>10</td>\n",
       "      <td>2023-11-03</td>\n",
       "      <td>Friday</td>\n",
       "    </tr>\n",
       "    <tr>\n",
       "      <th>...</th>\n",
       "      <td>...</td>\n",
       "      <td>...</td>\n",
       "      <td>...</td>\n",
       "      <td>...</td>\n",
       "      <td>...</td>\n",
       "      <td>...</td>\n",
       "      <td>...</td>\n",
       "      <td>...</td>\n",
       "      <td>...</td>\n",
       "      <td>...</td>\n",
       "      <td>...</td>\n",
       "      <td>...</td>\n",
       "      <td>...</td>\n",
       "      <td>...</td>\n",
       "      <td>...</td>\n",
       "      <td>...</td>\n",
       "      <td>...</td>\n",
       "    </tr>\n",
       "    <tr>\n",
       "      <th>75</th>\n",
       "      <td>76</td>\n",
       "      <td>681911200641483</td>\n",
       "      <td>The claws are out this August with Cat-stravag...</td>\n",
       "      <td>429</td>\n",
       "      <td>28</td>\n",
       "      <td>54</td>\n",
       "      <td>571</td>\n",
       "      <td>429</td>\n",
       "      <td>121.0</td>\n",
       "      <td>4.0</td>\n",
       "      <td>1.0</td>\n",
       "      <td>3.0</td>\n",
       "      <td>13.0</td>\n",
       "      <td>0.0</td>\n",
       "      <td>10</td>\n",
       "      <td>2023-08-01</td>\n",
       "      <td>Tuesday</td>\n",
       "    </tr>\n",
       "    <tr>\n",
       "      <th>76</th>\n",
       "      <td>77</td>\n",
       "      <td>681542050678398</td>\n",
       "      <td>Toontastic Kenergy all around 💯 Which of these...</td>\n",
       "      <td>228</td>\n",
       "      <td>20</td>\n",
       "      <td>63</td>\n",
       "      <td>466</td>\n",
       "      <td>228</td>\n",
       "      <td>172.0</td>\n",
       "      <td>1.0</td>\n",
       "      <td>0.0</td>\n",
       "      <td>58.0</td>\n",
       "      <td>7.0</td>\n",
       "      <td>0.0</td>\n",
       "      <td>19</td>\n",
       "      <td>2023-07-31</td>\n",
       "      <td>Monday</td>\n",
       "    </tr>\n",
       "    <tr>\n",
       "      <th>77</th>\n",
       "      <td>78</td>\n",
       "      <td>681350087364261</td>\n",
       "      <td>Celebrate the 9 lives of Cats with Cat-stravag...</td>\n",
       "      <td>125</td>\n",
       "      <td>8</td>\n",
       "      <td>7</td>\n",
       "      <td>198</td>\n",
       "      <td>125</td>\n",
       "      <td>66.0</td>\n",
       "      <td>1.0</td>\n",
       "      <td>0.0</td>\n",
       "      <td>0.0</td>\n",
       "      <td>6.0</td>\n",
       "      <td>0.0</td>\n",
       "      <td>11</td>\n",
       "      <td>2023-07-31</td>\n",
       "      <td>Monday</td>\n",
       "    </tr>\n",
       "    <tr>\n",
       "      <th>78</th>\n",
       "      <td>79</td>\n",
       "      <td>681290900703513</td>\n",
       "      <td>The iconic chase continues between Tom and Jer...</td>\n",
       "      <td>3309</td>\n",
       "      <td>281</td>\n",
       "      <td>1000</td>\n",
       "      <td>6216</td>\n",
       "      <td>3309</td>\n",
       "      <td>2069.0</td>\n",
       "      <td>45.0</td>\n",
       "      <td>31.0</td>\n",
       "      <td>33.0</td>\n",
       "      <td>127.0</td>\n",
       "      <td>602.0</td>\n",
       "      <td>9</td>\n",
       "      <td>2023-07-31</td>\n",
       "      <td>Monday</td>\n",
       "    </tr>\n",
       "    <tr>\n",
       "      <th>79</th>\n",
       "      <td>80</td>\n",
       "      <td>680769534088983</td>\n",
       "      <td>Did someone say FRIENDSHIP QUIZ? 👯‍♀️🧐 Happy I...</td>\n",
       "      <td>111</td>\n",
       "      <td>13</td>\n",
       "      <td>11</td>\n",
       "      <td>155</td>\n",
       "      <td>111</td>\n",
       "      <td>37.0</td>\n",
       "      <td>0.0</td>\n",
       "      <td>0.0</td>\n",
       "      <td>1.0</td>\n",
       "      <td>6.0</td>\n",
       "      <td>0.0</td>\n",
       "      <td>10</td>\n",
       "      <td>2023-07-30</td>\n",
       "      <td>Sunday</td>\n",
       "    </tr>\n",
       "  </tbody>\n",
       "</table>\n",
       "<p>80 rows × 17 columns</p>\n",
       "</div>"
      ],
      "text/plain": [
       "    index          post_id                                          post_text  \\\n",
       "0       1  738496031649666  Celebrate #WB100 with sunset movies under the ...   \n",
       "1       2  738486251650644  Unlock your Barbie and Chelsea alter ego! Try ...   \n",
       "2       3  736838365148766  Looks like Tom won't be fishing in the Singapo...   \n",
       "3       4  737572781741991  The chase is on in the Singapore Botanic Garde...   \n",
       "4       5  736877231811546  Ready to rock some outdoor superhero moves? ⚡️...   \n",
       "..    ...              ...                                                ...   \n",
       "75     76  681911200641483  The claws are out this August with Cat-stravag...   \n",
       "76     77  681542050678398  Toontastic Kenergy all around 💯 Which of these...   \n",
       "77     78  681350087364261  Celebrate the 9 lives of Cats with Cat-stravag...   \n",
       "78     79  681290900703513  The iconic chase continues between Tom and Jer...   \n",
       "79     80  680769534088983  Did someone say FRIENDSHIP QUIZ? 👯‍♀️🧐 Happy I...   \n",
       "\n",
       "    likes  comments  shares  reaction_count  like    love   wow  angry   haha  \\\n",
       "0      37         0       0              45    37     6.0   1.0    1.0    0.0   \n",
       "1      14         2       1              16    14     1.0   0.0    0.0    1.0   \n",
       "2       7         4      19              10     7     0.0   0.0    0.0    3.0   \n",
       "3     453        14      68             789   453   170.0   2.0    4.0  140.0   \n",
       "4      83         0       6             122    83    32.0   2.0    1.0    1.0   \n",
       "..    ...       ...     ...             ...   ...     ...   ...    ...    ...   \n",
       "75    429        28      54             571   429   121.0   4.0    1.0    3.0   \n",
       "76    228        20      63             466   228   172.0   1.0    0.0   58.0   \n",
       "77    125         8       7             198   125    66.0   1.0    0.0    0.0   \n",
       "78   3309       281    1000            6216  3309  2069.0  45.0   31.0   33.0   \n",
       "79    111        13      11             155   111    37.0   0.0    0.0    1.0   \n",
       "\n",
       "     care    sad  hour        date       day  \n",
       "0     0.0    0.0    11  2023-11-06    Monday  \n",
       "1     0.0    0.0    11  2023-11-06    Monday  \n",
       "2     0.0    0.0    19  2023-11-05    Sunday  \n",
       "3    18.0    2.0    19  2023-11-04  Saturday  \n",
       "4     3.0    0.0    10  2023-11-03    Friday  \n",
       "..    ...    ...   ...         ...       ...  \n",
       "75   13.0    0.0    10  2023-08-01   Tuesday  \n",
       "76    7.0    0.0    19  2023-07-31    Monday  \n",
       "77    6.0    0.0    11  2023-07-31    Monday  \n",
       "78  127.0  602.0     9  2023-07-31    Monday  \n",
       "79    6.0    0.0    10  2023-07-30    Sunday  \n",
       "\n",
       "[80 rows x 17 columns]"
      ]
     },
     "execution_count": 15,
     "metadata": {},
     "output_type": "execute_result"
    }
   ],
   "source": [
    "df"
   ]
  },
  {
   "cell_type": "code",
   "execution_count": 16,
   "id": "da8ae95d-56b6-4987-96ef-a78bbebf6dbd",
   "metadata": {},
   "outputs": [
    {
     "data": {
      "text/plain": [
       "<Axes: xlabel='index'>"
      ]
     },
     "execution_count": 16,
     "metadata": {},
     "output_type": "execute_result"
    },
    {
     "data": {
      "image/png": "[encoded data removed]",
      "text/plain": [
       "<Figure size 640x480 with 1 Axes>"
      ]
     },
     "metadata": {},
     "output_type": "display_data"
    }
   ],
   "source": [
    "# biến động share qua từng bài đăng\n",
    "df.plot(kind = \"line\", x = \"index\", y = \"shares\")"
   ]
  },
  {
   "cell_type": "code",
   "execution_count": 17,
   "id": "9c510743-28e2-42d3-a4e5-eedd63c9d603",
   "metadata": {},
   "outputs": [
    {
     "data": {
      "text/plain": [
       "<Axes: xlabel='index'>"
      ]
     },
     "execution_count": 17,
     "metadata": {},
     "output_type": "execute_result"
    },
    {
     "data": {
      "image/png": "[encoded data removed]",
      "text/plain": [
       "<Figure size 5000x2000 with 1 Axes>"
      ]
     },
     "metadata": {},
     "output_type": "display_data"
    }
   ],
   "source": [
    "# biểu đồ số lượng share của từng bài đăng\n",
    "df.plot(kind = \"bar\", x = \"index\", y = \"shares\", figsize = (50, 20))"
   ]
  },
  {
   "cell_type": "code",
   "execution_count": 18,
   "id": "e943de89-69f0-4c65-ae9b-90b2c887562b",
   "metadata": {},
   "outputs": [
    {
     "data": {
      "text/plain": [
       "12091"
      ]
     },
     "execution_count": 18,
     "metadata": {},
     "output_type": "execute_result"
    }
   ],
   "source": [
    "# tổng số lượt share\n",
    "sum(df.shares)"
   ]
  },
  {
   "cell_type": "code",
   "execution_count": 19,
   "id": "4213043f-f6d1-41d4-85c9-7189e901dd5e",
   "metadata": {},
   "outputs": [
    {
     "data": {
      "text/plain": [
       "151.1375"
      ]
     },
     "execution_count": 19,
     "metadata": {},
     "output_type": "execute_result"
    }
   ],
   "source": [
    "# lượt share trung bình\n",
    "df.shares.mean()"
   ]
  },
  {
   "cell_type": "code",
   "execution_count": 20,
   "id": "aa39414a-86bf-4c65-9979-012e34fbbb7f",
   "metadata": {},
   "outputs": [
    {
     "data": {
      "text/plain": [
       "14.0"
      ]
     },
     "execution_count": 20,
     "metadata": {},
     "output_type": "execute_result"
    }
   ],
   "source": [
    "# lượt share dao động trong khoảng\n",
    "df.shares.median()"
   ]
  },
  {
   "cell_type": "code",
   "execution_count": 21,
   "id": "275f3e8a-12a4-4577-8f41-10f6bd89026f",
   "metadata": {},
   "outputs": [
    {
     "data": {
      "text/plain": [
       "Index([59], dtype='int64')"
      ]
     },
     "execution_count": 21,
     "metadata": {},
     "output_type": "execute_result"
    }
   ],
   "source": [
    "# bài đăng có nhiều share nhất\n",
    "df.index[df['shares'] == max(df.shares)]"
   ]
  },
  {
   "cell_type": "code",
   "execution_count": 22,
   "id": "dffac0a3-e80f-4d44-9156-8d63440727eb",
   "metadata": {},
   "outputs": [
    {
     "data": {
      "text/plain": [
       "index                                                            60\n",
       "post_id                                             697917729040830\n",
       "post_text         Sorry Tom, The New York animals sure are #Team...\n",
       "likes                                                         68224\n",
       "comments                                                        268\n",
       "shares                                                         5000\n",
       "reaction_count                                                83629\n",
       "like                                                          68224\n",
       "love                                                         2834.0\n",
       "wow                                                            65.0\n",
       "angry                                                           5.0\n",
       "haha                                                        12164.0\n",
       "care                                                          321.0\n",
       "sad                                                            16.0\n",
       "hour                                                             19\n",
       "date                                                     2023-08-30\n",
       "day                                                       Wednesday\n",
       "Name: 59, dtype: object"
      ]
     },
     "execution_count": 22,
     "metadata": {},
     "output_type": "execute_result"
    }
   ],
   "source": [
    "df.iloc[59]"
   ]
  },
  {
   "cell_type": "code",
   "execution_count": 23,
   "id": "890827f5-6e90-47b3-b356-7bf38206346a",
   "metadata": {},
   "outputs": [
    {
     "data": {
      "text/plain": [
       "Index([0], dtype='int64')"
      ]
     },
     "execution_count": 23,
     "metadata": {},
     "output_type": "execute_result"
    }
   ],
   "source": [
    "# bài đăng có ít share nhất\n",
    "df.index[df['shares'] == min(df.shares)]"
   ]
  },
  {
   "cell_type": "code",
   "execution_count": 24,
   "id": "0d310944-573b-43ca-9f2d-0074b569dcb2",
   "metadata": {},
   "outputs": [
    {
     "data": {
      "text/plain": [
       "index                                                             1\n",
       "post_id                                             738496031649666\n",
       "post_text         Celebrate #WB100 with sunset movies under the ...\n",
       "likes                                                            37\n",
       "comments                                                          0\n",
       "shares                                                            0\n",
       "reaction_count                                                   45\n",
       "like                                                             37\n",
       "love                                                            6.0\n",
       "wow                                                             1.0\n",
       "angry                                                           1.0\n",
       "haha                                                            0.0\n",
       "care                                                            0.0\n",
       "sad                                                             0.0\n",
       "hour                                                             11\n",
       "date                                                     2023-11-06\n",
       "day                                                          Monday\n",
       "Name: 0, dtype: object"
      ]
     },
     "execution_count": 24,
     "metadata": {},
     "output_type": "execute_result"
    }
   ],
   "source": [
    "df.iloc[0]"
   ]
  }
 ],
 "metadata": {
  "kernelspec": {
   "display_name": "Python 3 (ipykernel)",
   "language": "python",
   "name": "python3"
  },
  "language_info": {
   "codemirror_mode": {
    "name": "ipython",
    "version": 3
   },
   "file_extension": ".py",
   "mimetype": "text/x-python",
   "name": "python",
   "nbconvert_exporter": "python",
   "pygments_lexer": "ipython3",
   "version": "3.9.13"
  }
 },
 "nbformat": 4,
 "nbformat_minor": 5
}
